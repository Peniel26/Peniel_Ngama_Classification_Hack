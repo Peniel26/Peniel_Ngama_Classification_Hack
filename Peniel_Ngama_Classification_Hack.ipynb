{
 "metadata": {
  "language_info": {
   "codemirror_mode": {
    "name": "ipython",
    "version": 3
   },
   "file_extension": ".py",
   "mimetype": "text/x-python",
   "name": "python",
   "nbconvert_exporter": "python",
   "pygments_lexer": "ipython3",
   "version": "3.8.5"
  },
  "orig_nbformat": 4,
  "kernelspec": {
   "name": "python3",
   "display_name": "Python 3.8.5 64-bit ('base': conda)"
  },
  "interpreter": {
   "hash": "c057283103631fcb6138dc5fda6d5179eedea6a3f838b7df28863890810253db"
  }
 },
 "nbformat": 4,
 "nbformat_minor": 2,
 "cells": [
  {
   "cell_type": "code",
   "execution_count": 40,
   "metadata": {},
   "outputs": [],
   "source": [
    "#Importing libraries\n",
    "import pandas as pd \n",
    "import numpy as np \n",
    "import seaborn as sns \n",
    "import matplotlib.pyplot as plt \n",
    "\n",
    "from sklearn.feature_extraction.text import CountVectorizer, TfidfVectorizer\n",
    "from sklearn.preprocessing import MinMaxScaler, StandardScaler, Normalizer\n",
    "\n",
    "from sklearn.metrics import classification_report\n",
    "from sklearn.metrics import f1_score\n",
    "from sklearn.metrics import accuracy_score\n",
    "\n",
    "from sklearn.model_selection import train_test_split\n",
    "from sklearn.svm import SVC\n",
    "from sklearn.neural_network import MLPClassifier\n",
    "\n",
    "from sklearn.ensemble import RandomForestClassifier, GradientBoostingClassifier\n",
    "from sklearn.tree import DecisionTreeClassifier\n",
    "from sklearn.naive_bayes import GaussianNB, MultinomialNB\n",
    "\n",
    "from nltk import word_tokenize, TreebankWordTokenizer\n",
    "from nltk import PorterStemmer"
   ]
  },
  {
   "cell_type": "code",
   "execution_count": 41,
   "metadata": {},
   "outputs": [],
   "source": [
    "train_data = pd.read_csv('train_set.csv')\n",
    "test_data = pd.read_csv('test_set.csv')"
   ]
  },
  {
   "cell_type": "code",
   "execution_count": 42,
   "metadata": {},
   "outputs": [
    {
     "output_type": "execute_result",
     "data": {
      "text/plain": [
       "  lang_id                                               text\n",
       "0     xho  umgaqo-siseko wenza amalungiselelo kumaziko ax...\n",
       "1     xho  i-dha iya kuba nobulumko bokubeka umsebenzi na...\n",
       "2     eng  the province of kwazulu-natal department of tr...\n",
       "3     nso  o netefatša gore o ba file dilo ka moka tše le...\n",
       "4     ven  khomishini ya ndinganyiso ya mbeu yo ewa maana..."
      ],
      "text/html": "<div>\n<style scoped>\n    .dataframe tbody tr th:only-of-type {\n        vertical-align: middle;\n    }\n\n    .dataframe tbody tr th {\n        vertical-align: top;\n    }\n\n    .dataframe thead th {\n        text-align: right;\n    }\n</style>\n<table border=\"1\" class=\"dataframe\">\n  <thead>\n    <tr style=\"text-align: right;\">\n      <th></th>\n      <th>lang_id</th>\n      <th>text</th>\n    </tr>\n  </thead>\n  <tbody>\n    <tr>\n      <th>0</th>\n      <td>xho</td>\n      <td>umgaqo-siseko wenza amalungiselelo kumaziko ax...</td>\n    </tr>\n    <tr>\n      <th>1</th>\n      <td>xho</td>\n      <td>i-dha iya kuba nobulumko bokubeka umsebenzi na...</td>\n    </tr>\n    <tr>\n      <th>2</th>\n      <td>eng</td>\n      <td>the province of kwazulu-natal department of tr...</td>\n    </tr>\n    <tr>\n      <th>3</th>\n      <td>nso</td>\n      <td>o netefatša gore o ba file dilo ka moka tše le...</td>\n    </tr>\n    <tr>\n      <th>4</th>\n      <td>ven</td>\n      <td>khomishini ya ndinganyiso ya mbeu yo ewa maana...</td>\n    </tr>\n  </tbody>\n</table>\n</div>"
     },
     "metadata": {},
     "execution_count": 42
    }
   ],
   "source": [
    "train_data.head()"
   ]
  },
  {
   "cell_type": "code",
   "execution_count": 43,
   "metadata": {},
   "outputs": [
    {
     "output_type": "execute_result",
     "data": {
      "text/plain": [
       "   index                                               text\n",
       "0      1  Mmasepala, fa maemo a a kgethegileng a letlele...\n",
       "1      2  Uzakwaziswa ngokufaneleko nakungafuneka eminye...\n",
       "2      3         Tshivhumbeo tshi fana na ngano dza vhathu.\n",
       "3      4  Kube inja nelikati betingevakala kutsi titsini...\n",
       "4      5                      Winste op buitelandse valuta."
      ],
      "text/html": "<div>\n<style scoped>\n    .dataframe tbody tr th:only-of-type {\n        vertical-align: middle;\n    }\n\n    .dataframe tbody tr th {\n        vertical-align: top;\n    }\n\n    .dataframe thead th {\n        text-align: right;\n    }\n</style>\n<table border=\"1\" class=\"dataframe\">\n  <thead>\n    <tr style=\"text-align: right;\">\n      <th></th>\n      <th>index</th>\n      <th>text</th>\n    </tr>\n  </thead>\n  <tbody>\n    <tr>\n      <th>0</th>\n      <td>1</td>\n      <td>Mmasepala, fa maemo a a kgethegileng a letlele...</td>\n    </tr>\n    <tr>\n      <th>1</th>\n      <td>2</td>\n      <td>Uzakwaziswa ngokufaneleko nakungafuneka eminye...</td>\n    </tr>\n    <tr>\n      <th>2</th>\n      <td>3</td>\n      <td>Tshivhumbeo tshi fana na ngano dza vhathu.</td>\n    </tr>\n    <tr>\n      <th>3</th>\n      <td>4</td>\n      <td>Kube inja nelikati betingevakala kutsi titsini...</td>\n    </tr>\n    <tr>\n      <th>4</th>\n      <td>5</td>\n      <td>Winste op buitelandse valuta.</td>\n    </tr>\n  </tbody>\n</table>\n</div>"
     },
     "metadata": {},
     "execution_count": 43
    }
   ],
   "source": [
    "test_data.head()"
   ]
  },
  {
   "cell_type": "code",
   "execution_count": 44,
   "metadata": {},
   "outputs": [
    {
     "output_type": "execute_result",
     "data": {
      "text/plain": [
       "lang_id    0\n",
       "text       0\n",
       "dtype: int64"
      ]
     },
     "metadata": {},
     "execution_count": 44
    }
   ],
   "source": [
    "#checking for any null data\n",
    "train_data.isnull().sum()"
   ]
  },
  {
   "cell_type": "code",
   "execution_count": 45,
   "metadata": {},
   "outputs": [
    {
     "output_type": "execute_result",
     "data": {
      "text/plain": [
       "xho    3000\n",
       "ven    3000\n",
       "sot    3000\n",
       "tsn    3000\n",
       "ssw    3000\n",
       "nbl    3000\n",
       "zul    3000\n",
       "nso    3000\n",
       "tso    3000\n",
       "afr    3000\n",
       "eng    3000\n",
       "Name: lang_id, dtype: int64"
      ]
     },
     "metadata": {},
     "execution_count": 45
    }
   ],
   "source": [
    "#checking distribution of data for each language \n",
    "train_data['lang_id'].value_counts()"
   ]
  },
  {
   "cell_type": "code",
   "execution_count": 46,
   "metadata": {},
   "outputs": [],
   "source": [
    "#cleaning the data \n",
    "pattern_url = r'http[s]?://(?:[A-Za-z]|[0-9]|[$-_@.&+]|[!*\\(\\),]|(?:%[0-9A-Fa-f][0-9A-Fa-f]))+'\n",
    "train_data['clean'] = train_data['text'].replace(to_replace = pattern_url, value = ' ', regex = True)"
   ]
  },
  {
   "cell_type": "code",
   "execution_count": 47,
   "metadata": {},
   "outputs": [],
   "source": [
    "# all strings lower case\n",
    "train_data['clean'] = train_data['clean'].str.lower()"
   ]
  },
  {
   "cell_type": "code",
   "execution_count": 48,
   "metadata": {},
   "outputs": [],
   "source": [
    "# tokenize \n",
    "train_data['tokens'] = train_data['clean'].apply(word_tokenize)"
   ]
  },
  {
   "cell_type": "code",
   "execution_count": 49,
   "metadata": {},
   "outputs": [
    {
     "output_type": "execute_result",
     "data": {
      "text/plain": [
       "      lang_id                                               text  \\\n",
       "0         xho  umgaqo-siseko wenza amalungiselelo kumaziko ax...   \n",
       "1         xho  i-dha iya kuba nobulumko bokubeka umsebenzi na...   \n",
       "2         eng  the province of kwazulu-natal department of tr...   \n",
       "3         nso  o netefatša gore o ba file dilo ka moka tše le...   \n",
       "4         ven  khomishini ya ndinganyiso ya mbeu yo ewa maana...   \n",
       "...       ...                                                ...   \n",
       "32995     tsn  popo ya dipolateforomo tse ke go tlisa boetele...   \n",
       "32996     sot  modise mosadi na o ntse o sa utlwe hore thaban...   \n",
       "32997     eng  closing date for the submission of completed t...   \n",
       "32998     xho  nawuphina umntu ofunyenwe enetyala phantsi kwa...   \n",
       "32999     sot  mafapha a mang le ona a lokela ho etsa ditlale...   \n",
       "\n",
       "                                                   clean  \\\n",
       "0      umgaqo-siseko wenza amalungiselelo kumaziko ax...   \n",
       "1      i-dha iya kuba nobulumko bokubeka umsebenzi na...   \n",
       "2      the province of kwazulu-natal department of tr...   \n",
       "3      o netefatša gore o ba file dilo ka moka tše le...   \n",
       "4      khomishini ya ndinganyiso ya mbeu yo ewa maana...   \n",
       "...                                                  ...   \n",
       "32995  popo ya dipolateforomo tse ke go tlisa boetele...   \n",
       "32996  modise mosadi na o ntse o sa utlwe hore thaban...   \n",
       "32997  closing date for the submission of completed t...   \n",
       "32998  nawuphina umntu ofunyenwe enetyala phantsi kwa...   \n",
       "32999  mafapha a mang le ona a lokela ho etsa ditlale...   \n",
       "\n",
       "                                                  tokens  \n",
       "0      [umgaqo-siseko, wenza, amalungiselelo, kumazik...  \n",
       "1      [i-dha, iya, kuba, nobulumko, bokubeka, umsebe...  \n",
       "2      [the, province, of, kwazulu-natal, department,...  \n",
       "3      [o, netefatša, gore, o, ba, file, dilo, ka, mo...  \n",
       "4      [khomishini, ya, ndinganyiso, ya, mbeu, yo, ew...  \n",
       "...                                                  ...  \n",
       "32995  [popo, ya, dipolateforomo, tse, ke, go, tlisa,...  \n",
       "32996  [modise, mosadi, na, o, ntse, o, sa, utlwe, ho...  \n",
       "32997  [closing, date, for, the, submission, of, comp...  \n",
       "32998  [nawuphina, umntu, ofunyenwe, enetyala, phants...  \n",
       "32999  [mafapha, a, mang, le, ona, a, lokela, ho, ets...  \n",
       "\n",
       "[33000 rows x 4 columns]"
      ],
      "text/html": "<div>\n<style scoped>\n    .dataframe tbody tr th:only-of-type {\n        vertical-align: middle;\n    }\n\n    .dataframe tbody tr th {\n        vertical-align: top;\n    }\n\n    .dataframe thead th {\n        text-align: right;\n    }\n</style>\n<table border=\"1\" class=\"dataframe\">\n  <thead>\n    <tr style=\"text-align: right;\">\n      <th></th>\n      <th>lang_id</th>\n      <th>text</th>\n      <th>clean</th>\n      <th>tokens</th>\n    </tr>\n  </thead>\n  <tbody>\n    <tr>\n      <th>0</th>\n      <td>xho</td>\n      <td>umgaqo-siseko wenza amalungiselelo kumaziko ax...</td>\n      <td>umgaqo-siseko wenza amalungiselelo kumaziko ax...</td>\n      <td>[umgaqo-siseko, wenza, amalungiselelo, kumazik...</td>\n    </tr>\n    <tr>\n      <th>1</th>\n      <td>xho</td>\n      <td>i-dha iya kuba nobulumko bokubeka umsebenzi na...</td>\n      <td>i-dha iya kuba nobulumko bokubeka umsebenzi na...</td>\n      <td>[i-dha, iya, kuba, nobulumko, bokubeka, umsebe...</td>\n    </tr>\n    <tr>\n      <th>2</th>\n      <td>eng</td>\n      <td>the province of kwazulu-natal department of tr...</td>\n      <td>the province of kwazulu-natal department of tr...</td>\n      <td>[the, province, of, kwazulu-natal, department,...</td>\n    </tr>\n    <tr>\n      <th>3</th>\n      <td>nso</td>\n      <td>o netefatša gore o ba file dilo ka moka tše le...</td>\n      <td>o netefatša gore o ba file dilo ka moka tše le...</td>\n      <td>[o, netefatša, gore, o, ba, file, dilo, ka, mo...</td>\n    </tr>\n    <tr>\n      <th>4</th>\n      <td>ven</td>\n      <td>khomishini ya ndinganyiso ya mbeu yo ewa maana...</td>\n      <td>khomishini ya ndinganyiso ya mbeu yo ewa maana...</td>\n      <td>[khomishini, ya, ndinganyiso, ya, mbeu, yo, ew...</td>\n    </tr>\n    <tr>\n      <th>...</th>\n      <td>...</td>\n      <td>...</td>\n      <td>...</td>\n      <td>...</td>\n    </tr>\n    <tr>\n      <th>32995</th>\n      <td>tsn</td>\n      <td>popo ya dipolateforomo tse ke go tlisa boetele...</td>\n      <td>popo ya dipolateforomo tse ke go tlisa boetele...</td>\n      <td>[popo, ya, dipolateforomo, tse, ke, go, tlisa,...</td>\n    </tr>\n    <tr>\n      <th>32996</th>\n      <td>sot</td>\n      <td>modise mosadi na o ntse o sa utlwe hore thaban...</td>\n      <td>modise mosadi na o ntse o sa utlwe hore thaban...</td>\n      <td>[modise, mosadi, na, o, ntse, o, sa, utlwe, ho...</td>\n    </tr>\n    <tr>\n      <th>32997</th>\n      <td>eng</td>\n      <td>closing date for the submission of completed t...</td>\n      <td>closing date for the submission of completed t...</td>\n      <td>[closing, date, for, the, submission, of, comp...</td>\n    </tr>\n    <tr>\n      <th>32998</th>\n      <td>xho</td>\n      <td>nawuphina umntu ofunyenwe enetyala phantsi kwa...</td>\n      <td>nawuphina umntu ofunyenwe enetyala phantsi kwa...</td>\n      <td>[nawuphina, umntu, ofunyenwe, enetyala, phants...</td>\n    </tr>\n    <tr>\n      <th>32999</th>\n      <td>sot</td>\n      <td>mafapha a mang le ona a lokela ho etsa ditlale...</td>\n      <td>mafapha a mang le ona a lokela ho etsa ditlale...</td>\n      <td>[mafapha, a, mang, le, ona, a, lokela, ho, ets...</td>\n    </tr>\n  </tbody>\n</table>\n<p>33000 rows × 4 columns</p>\n</div>"
     },
     "metadata": {},
     "execution_count": 49
    }
   ],
   "source": [
    "train_data"
   ]
  },
  {
   "cell_type": "code",
   "execution_count": 50,
   "metadata": {},
   "outputs": [
    {
     "output_type": "execute_result",
     "data": {
      "text/plain": [
       "      lang_id                                               text  \\\n",
       "0         xho  umgaqo-siseko wenza amalungiselelo kumaziko ax...   \n",
       "1         xho  i-dha iya kuba nobulumko bokubeka umsebenzi na...   \n",
       "2         eng  the province of kwazulu-natal department of tr...   \n",
       "3         nso  o netefatša gore o ba file dilo ka moka tše le...   \n",
       "4         ven  khomishini ya ndinganyiso ya mbeu yo ewa maana...   \n",
       "...       ...                                                ...   \n",
       "32995     tsn  popo ya dipolateforomo tse ke go tlisa boetele...   \n",
       "32996     sot  modise mosadi na o ntse o sa utlwe hore thaban...   \n",
       "32997     eng  closing date for the submission of completed t...   \n",
       "32998     xho  nawuphina umntu ofunyenwe enetyala phantsi kwa...   \n",
       "32999     sot  mafapha a mang le ona a lokela ho etsa ditlale...   \n",
       "\n",
       "                                                   clean  \\\n",
       "0      umgaqo-siseko wenza amalungiselelo kumaziko ax...   \n",
       "1      i-dha iya kuba nobulumko bokubeka umsebenzi na...   \n",
       "2      the province of kwazulu-natal department of tr...   \n",
       "3      o netefatša gore o ba file dilo ka moka tše le...   \n",
       "4      khomishini ya ndinganyiso ya mbeu yo ewa maana...   \n",
       "...                                                  ...   \n",
       "32995  popo ya dipolateforomo tse ke go tlisa boetele...   \n",
       "32996  modise mosadi na o ntse o sa utlwe hore thaban...   \n",
       "32997  closing date for the submission of completed t...   \n",
       "32998  nawuphina umntu ofunyenwe enetyala phantsi kwa...   \n",
       "32999  mafapha a mang le ona a lokela ho etsa ditlale...   \n",
       "\n",
       "                                                  tokens  \\\n",
       "0      [umgaqo-siseko, wenza, amalungiselelo, kumazik...   \n",
       "1      [i-dha, iya, kuba, nobulumko, bokubeka, umsebe...   \n",
       "2      [the, province, of, kwazulu-natal, department,...   \n",
       "3      [o, netefatša, gore, o, ba, file, dilo, ka, mo...   \n",
       "4      [khomishini, ya, ndinganyiso, ya, mbeu, yo, ew...   \n",
       "...                                                  ...   \n",
       "32995  [popo, ya, dipolateforomo, tse, ke, go, tlisa,...   \n",
       "32996  [modise, mosadi, na, o, ntse, o, sa, utlwe, ho...   \n",
       "32997  [closing, date, for, the, submission, of, comp...   \n",
       "32998  [nawuphina, umntu, ofunyenwe, enetyala, phants...   \n",
       "32999  [mafapha, a, mang, le, ona, a, lokela, ho, ets...   \n",
       "\n",
       "                                                 stemmed  \n",
       "0      [umgaqo-siseko, wenza, amalungiselelo, kumazik...  \n",
       "1      [i-dha, iya, kuba, nobulumko, bokubeka, umsebe...  \n",
       "2      [the, provinc, of, kwazulu-nat, depart, of, tr...  \n",
       "3      [o, netefatša, gore, o, ba, file, dilo, ka, mo...  \n",
       "4      [khomishini, ya, ndinganyiso, ya, mbeu, yo, ew...  \n",
       "...                                                  ...  \n",
       "32995  [popo, ya, dipolateforomo, tse, ke, go, tlisa,...  \n",
       "32996  [modis, mosadi, na, o, ntse, o, sa, utlw, hore...  \n",
       "32997  [close, date, for, the, submiss, of, complet, ...  \n",
       "32998  [nawuphina, umntu, ofunyenw, enetyala, phantsi...  \n",
       "32999  [mafapha, a, mang, le, ona, a, lokela, ho, ets...  \n",
       "\n",
       "[33000 rows x 5 columns]"
      ],
      "text/html": "<div>\n<style scoped>\n    .dataframe tbody tr th:only-of-type {\n        vertical-align: middle;\n    }\n\n    .dataframe tbody tr th {\n        vertical-align: top;\n    }\n\n    .dataframe thead th {\n        text-align: right;\n    }\n</style>\n<table border=\"1\" class=\"dataframe\">\n  <thead>\n    <tr style=\"text-align: right;\">\n      <th></th>\n      <th>lang_id</th>\n      <th>text</th>\n      <th>clean</th>\n      <th>tokens</th>\n      <th>stemmed</th>\n    </tr>\n  </thead>\n  <tbody>\n    <tr>\n      <th>0</th>\n      <td>xho</td>\n      <td>umgaqo-siseko wenza amalungiselelo kumaziko ax...</td>\n      <td>umgaqo-siseko wenza amalungiselelo kumaziko ax...</td>\n      <td>[umgaqo-siseko, wenza, amalungiselelo, kumazik...</td>\n      <td>[umgaqo-siseko, wenza, amalungiselelo, kumazik...</td>\n    </tr>\n    <tr>\n      <th>1</th>\n      <td>xho</td>\n      <td>i-dha iya kuba nobulumko bokubeka umsebenzi na...</td>\n      <td>i-dha iya kuba nobulumko bokubeka umsebenzi na...</td>\n      <td>[i-dha, iya, kuba, nobulumko, bokubeka, umsebe...</td>\n      <td>[i-dha, iya, kuba, nobulumko, bokubeka, umsebe...</td>\n    </tr>\n    <tr>\n      <th>2</th>\n      <td>eng</td>\n      <td>the province of kwazulu-natal department of tr...</td>\n      <td>the province of kwazulu-natal department of tr...</td>\n      <td>[the, province, of, kwazulu-natal, department,...</td>\n      <td>[the, provinc, of, kwazulu-nat, depart, of, tr...</td>\n    </tr>\n    <tr>\n      <th>3</th>\n      <td>nso</td>\n      <td>o netefatša gore o ba file dilo ka moka tše le...</td>\n      <td>o netefatša gore o ba file dilo ka moka tše le...</td>\n      <td>[o, netefatša, gore, o, ba, file, dilo, ka, mo...</td>\n      <td>[o, netefatša, gore, o, ba, file, dilo, ka, mo...</td>\n    </tr>\n    <tr>\n      <th>4</th>\n      <td>ven</td>\n      <td>khomishini ya ndinganyiso ya mbeu yo ewa maana...</td>\n      <td>khomishini ya ndinganyiso ya mbeu yo ewa maana...</td>\n      <td>[khomishini, ya, ndinganyiso, ya, mbeu, yo, ew...</td>\n      <td>[khomishini, ya, ndinganyiso, ya, mbeu, yo, ew...</td>\n    </tr>\n    <tr>\n      <th>...</th>\n      <td>...</td>\n      <td>...</td>\n      <td>...</td>\n      <td>...</td>\n      <td>...</td>\n    </tr>\n    <tr>\n      <th>32995</th>\n      <td>tsn</td>\n      <td>popo ya dipolateforomo tse ke go tlisa boetele...</td>\n      <td>popo ya dipolateforomo tse ke go tlisa boetele...</td>\n      <td>[popo, ya, dipolateforomo, tse, ke, go, tlisa,...</td>\n      <td>[popo, ya, dipolateforomo, tse, ke, go, tlisa,...</td>\n    </tr>\n    <tr>\n      <th>32996</th>\n      <td>sot</td>\n      <td>modise mosadi na o ntse o sa utlwe hore thaban...</td>\n      <td>modise mosadi na o ntse o sa utlwe hore thaban...</td>\n      <td>[modise, mosadi, na, o, ntse, o, sa, utlwe, ho...</td>\n      <td>[modis, mosadi, na, o, ntse, o, sa, utlw, hore...</td>\n    </tr>\n    <tr>\n      <th>32997</th>\n      <td>eng</td>\n      <td>closing date for the submission of completed t...</td>\n      <td>closing date for the submission of completed t...</td>\n      <td>[closing, date, for, the, submission, of, comp...</td>\n      <td>[close, date, for, the, submiss, of, complet, ...</td>\n    </tr>\n    <tr>\n      <th>32998</th>\n      <td>xho</td>\n      <td>nawuphina umntu ofunyenwe enetyala phantsi kwa...</td>\n      <td>nawuphina umntu ofunyenwe enetyala phantsi kwa...</td>\n      <td>[nawuphina, umntu, ofunyenwe, enetyala, phants...</td>\n      <td>[nawuphina, umntu, ofunyenw, enetyala, phantsi...</td>\n    </tr>\n    <tr>\n      <th>32999</th>\n      <td>sot</td>\n      <td>mafapha a mang le ona a lokela ho etsa ditlale...</td>\n      <td>mafapha a mang le ona a lokela ho etsa ditlale...</td>\n      <td>[mafapha, a, mang, le, ona, a, lokela, ho, ets...</td>\n      <td>[mafapha, a, mang, le, ona, a, lokela, ho, ets...</td>\n    </tr>\n  </tbody>\n</table>\n<p>33000 rows × 5 columns</p>\n</div>"
     },
     "metadata": {},
     "execution_count": 50
    }
   ],
   "source": [
    "stem=PorterStemmer()\n",
    "train_data['stemmed'] = train_data['tokens'].apply(lambda x: [stem.stem(word) for word in x])\n",
    "train_data\n",
    "\n",
    "# stemming and leminization seems to only funtion for english words "
   ]
  },
  {
   "cell_type": "code",
   "execution_count": 52,
   "metadata": {},
   "outputs": [],
   "source": [
    "tfidf_vect=TfidfVectorizer(lowercase=True, ngram_range=(1,3) ,min_df=.01, max_features=250)\n",
    "X_tfidf = tfidf_vect.fit_transform(train_data['clean'])"
   ]
  },
  {
   "cell_type": "code",
   "execution_count": 53,
   "metadata": {},
   "outputs": [
    {
     "output_type": "execute_result",
     "data": {
      "text/plain": [
       "(33000, 250)"
      ]
     },
     "metadata": {},
     "execution_count": 53
    }
   ],
   "source": [
    "X_tfidf.shape"
   ]
  },
  {
   "cell_type": "code",
   "execution_count": 54,
   "metadata": {},
   "outputs": [],
   "source": [
    "X = X_tfidf.toarray()\n",
    "y = np.array(train_data['lang_id'])"
   ]
  },
  {
   "cell_type": "code",
   "execution_count": 55,
   "metadata": {},
   "outputs": [],
   "source": [
    "# train data split for model testing \n",
    "X_train, X_test, y_train, y_test = train_test_split(X_tfidf, y, test_size=0.2, random_state=42)"
   ]
  },
  {
   "cell_type": "code",
   "execution_count": 58,
   "metadata": {},
   "outputs": [
    {
     "output_type": "stream",
     "name": "stdout",
     "text": [
      "0.9192424242424242\n"
     ]
    }
   ],
   "source": [
    "rfor = RandomForestClassifier(n_estimators=60, min_samples_split=5, min_samples_leaf=1, max_features='sqrt', max_depth=None, bootstrap=False)\n",
    "rfor.fit(X_train, y_train)\n",
    "y_pred = rfor.predict(X_test)\n",
    "print(accuracy_score(y_test, y_pred))"
   ]
  },
  {
   "cell_type": "code",
   "execution_count": 59,
   "metadata": {},
   "outputs": [
    {
     "output_type": "stream",
     "name": "stdout",
     "text": [
      "0.9151515151515152\n"
     ]
    }
   ],
   "source": [
    "s_vc = SVC(kernel='linear')\n",
    "s_vc.fit(X_train, y_train)\n",
    "y_pred = s_vc.predict(X_test)\n",
    "print(accuracy_score(y_test, y_pred))"
   ]
  },
  {
   "cell_type": "code",
   "execution_count": 60,
   "metadata": {},
   "outputs": [
    {
     "output_type": "stream",
     "name": "stdout",
     "text": [
      "0.9186363636363636\n",
      "C:\\Users\\Marc\\anaconda3\\lib\\site-packages\\sklearn\\neural_network\\_multilayer_perceptron.py:614: ConvergenceWarning: Stochastic Optimizer: Maximum iterations (200) reached and the optimization hasn't converged yet.\n",
      "  warnings.warn(\n"
     ]
    }
   ],
   "source": [
    "n_n = MLPClassifier()\n",
    "n_n.fit(X_train, y_train)\n",
    "y_pred = n_n.predict(X_test)\n",
    "print(accuracy_score(y_test, y_pred))"
   ]
  },
  {
   "cell_type": "code",
   "execution_count": null,
   "metadata": {},
   "outputs": [],
   "source": [
    "from sklearn.model_selection import GridSearchCV, RandomizedSearchCV\n",
    "# param_grid = {'C': [0.1,1, 10, 100], 'gamma': [1,0.1,0.01,0.001],'kernel': ['rbf', 'poly', 'sigmoid']}\n",
    "\n",
    "param_rf = {'bootstrap': [True, False],\n",
    " 'max_depth': [10, 20, 30, 40, 50, 60, 70, 80, 90, 100, None],\n",
    " 'max_features': ['auto', 'sqrt'],\n",
    " 'min_samples_leaf': [1, 2, 4],\n",
    " 'min_samples_split': [2, 5, 10],\n",
    " 'n_estimators': [20, 40, 60, 80, 100]}\n",
    "\n",
    "# grid = GridSearchCV(RandomForestClassifier, param_rf, refit=True)\n",
    "# grid.fit(X_train,y_train)\n",
    "\n",
    "rf_random = RandomizedSearchCV(estimator = RandomForestClassifier(), param_distributions = param_rf, n_iter = 100, cv = 3, verbose=2, random_state=42, n_jobs = -1)\n",
    "rf_random.fit(X_train, y_train)"
   ]
  },
  {
   "cell_type": "code",
   "execution_count": 61,
   "metadata": {},
   "outputs": [
    {
     "output_type": "execute_result",
     "data": {
      "text/plain": [
       "index    0\n",
       "text     0\n",
       "dtype: int64"
      ]
     },
     "metadata": {},
     "execution_count": 61
    }
   ],
   "source": [
    "# fix test data \n",
    "test_data.isnull().sum()"
   ]
  },
  {
   "cell_type": "code",
   "execution_count": 66,
   "metadata": {},
   "outputs": [],
   "source": [
    "test_data['clean'] = test_data['text'].replace(to_replace = pattern_url, value = ' ', regex = True)\n",
    "test_data['clean'] = test_data['clean'].str.lower()\n",
    "test_data['tokens'] = test_data['clean'].apply(word_tokenize)"
   ]
  },
  {
   "cell_type": "code",
   "execution_count": 67,
   "metadata": {},
   "outputs": [
    {
     "output_type": "execute_result",
     "data": {
      "text/plain": [
       "      index                                               text  \\\n",
       "0         1  Mmasepala, fa maemo a a kgethegileng a letlele...   \n",
       "1         2  Uzakwaziswa ngokufaneleko nakungafuneka eminye...   \n",
       "2         3         Tshivhumbeo tshi fana na ngano dza vhathu.   \n",
       "3         4  Kube inja nelikati betingevakala kutsi titsini...   \n",
       "4         5                      Winste op buitelandse valuta.   \n",
       "...     ...                                                ...   \n",
       "5677   5678                   You mark your ballot in private.   \n",
       "5678   5679  Ge o ka kgetha ka bowena go se šomiše Mofani k...   \n",
       "5679   5680  E Ka kopo etsa kgetho ya hao ka hloko, hobane ...   \n",
       "5680   5681  TB ke bokudi ba PMB, mme Morero o tla lefella ...   \n",
       "5681   5682              Vakatjhela iwebhusayidi yethu ku-www.   \n",
       "\n",
       "                                                  clean  \\\n",
       "0     mmasepala, fa maemo a a kgethegileng a letlele...   \n",
       "1     uzakwaziswa ngokufaneleko nakungafuneka eminye...   \n",
       "2            tshivhumbeo tshi fana na ngano dza vhathu.   \n",
       "3     kube inja nelikati betingevakala kutsi titsini...   \n",
       "4                         winste op buitelandse valuta.   \n",
       "...                                                 ...   \n",
       "5677                   you mark your ballot in private.   \n",
       "5678  ge o ka kgetha ka bowena go se šomiše mofani k...   \n",
       "5679  e ka kopo etsa kgetho ya hao ka hloko, hobane ...   \n",
       "5680  tb ke bokudi ba pmb, mme morero o tla lefella ...   \n",
       "5681              vakatjhela iwebhusayidi yethu ku-www.   \n",
       "\n",
       "                                                 tokens  \n",
       "0     [mmasepala, ,, fa, maemo, a, a, kgethegileng, ...  \n",
       "1     [uzakwaziswa, ngokufaneleko, nakungafuneka, em...  \n",
       "2     [tshivhumbeo, tshi, fana, na, ngano, dza, vhat...  \n",
       "3     [kube, inja, nelikati, betingevakala, kutsi, t...  \n",
       "4                  [winste, op, buitelandse, valuta, .]  \n",
       "...                                                 ...  \n",
       "5677          [you, mark, your, ballot, in, private, .]  \n",
       "5678  [ge, o, ka, kgetha, ka, bowena, go, se, šomiše...  \n",
       "5679  [e, ka, kopo, etsa, kgetho, ya, hao, ka, hloko...  \n",
       "5680  [tb, ke, bokudi, ba, pmb, ,, mme, morero, o, t...  \n",
       "5681       [vakatjhela, iwebhusayidi, yethu, ku-www, .]  \n",
       "\n",
       "[5682 rows x 4 columns]"
      ],
      "text/html": "<div>\n<style scoped>\n    .dataframe tbody tr th:only-of-type {\n        vertical-align: middle;\n    }\n\n    .dataframe tbody tr th {\n        vertical-align: top;\n    }\n\n    .dataframe thead th {\n        text-align: right;\n    }\n</style>\n<table border=\"1\" class=\"dataframe\">\n  <thead>\n    <tr style=\"text-align: right;\">\n      <th></th>\n      <th>index</th>\n      <th>text</th>\n      <th>clean</th>\n      <th>tokens</th>\n    </tr>\n  </thead>\n  <tbody>\n    <tr>\n      <th>0</th>\n      <td>1</td>\n      <td>Mmasepala, fa maemo a a kgethegileng a letlele...</td>\n      <td>mmasepala, fa maemo a a kgethegileng a letlele...</td>\n      <td>[mmasepala, ,, fa, maemo, a, a, kgethegileng, ...</td>\n    </tr>\n    <tr>\n      <th>1</th>\n      <td>2</td>\n      <td>Uzakwaziswa ngokufaneleko nakungafuneka eminye...</td>\n      <td>uzakwaziswa ngokufaneleko nakungafuneka eminye...</td>\n      <td>[uzakwaziswa, ngokufaneleko, nakungafuneka, em...</td>\n    </tr>\n    <tr>\n      <th>2</th>\n      <td>3</td>\n      <td>Tshivhumbeo tshi fana na ngano dza vhathu.</td>\n      <td>tshivhumbeo tshi fana na ngano dza vhathu.</td>\n      <td>[tshivhumbeo, tshi, fana, na, ngano, dza, vhat...</td>\n    </tr>\n    <tr>\n      <th>3</th>\n      <td>4</td>\n      <td>Kube inja nelikati betingevakala kutsi titsini...</td>\n      <td>kube inja nelikati betingevakala kutsi titsini...</td>\n      <td>[kube, inja, nelikati, betingevakala, kutsi, t...</td>\n    </tr>\n    <tr>\n      <th>4</th>\n      <td>5</td>\n      <td>Winste op buitelandse valuta.</td>\n      <td>winste op buitelandse valuta.</td>\n      <td>[winste, op, buitelandse, valuta, .]</td>\n    </tr>\n    <tr>\n      <th>...</th>\n      <td>...</td>\n      <td>...</td>\n      <td>...</td>\n      <td>...</td>\n    </tr>\n    <tr>\n      <th>5677</th>\n      <td>5678</td>\n      <td>You mark your ballot in private.</td>\n      <td>you mark your ballot in private.</td>\n      <td>[you, mark, your, ballot, in, private, .]</td>\n    </tr>\n    <tr>\n      <th>5678</th>\n      <td>5679</td>\n      <td>Ge o ka kgetha ka bowena go se šomiše Mofani k...</td>\n      <td>ge o ka kgetha ka bowena go se šomiše mofani k...</td>\n      <td>[ge, o, ka, kgetha, ka, bowena, go, se, šomiše...</td>\n    </tr>\n    <tr>\n      <th>5679</th>\n      <td>5680</td>\n      <td>E Ka kopo etsa kgetho ya hao ka hloko, hobane ...</td>\n      <td>e ka kopo etsa kgetho ya hao ka hloko, hobane ...</td>\n      <td>[e, ka, kopo, etsa, kgetho, ya, hao, ka, hloko...</td>\n    </tr>\n    <tr>\n      <th>5680</th>\n      <td>5681</td>\n      <td>TB ke bokudi ba PMB, mme Morero o tla lefella ...</td>\n      <td>tb ke bokudi ba pmb, mme morero o tla lefella ...</td>\n      <td>[tb, ke, bokudi, ba, pmb, ,, mme, morero, o, t...</td>\n    </tr>\n    <tr>\n      <th>5681</th>\n      <td>5682</td>\n      <td>Vakatjhela iwebhusayidi yethu ku-www.</td>\n      <td>vakatjhela iwebhusayidi yethu ku-www.</td>\n      <td>[vakatjhela, iwebhusayidi, yethu, ku-www, .]</td>\n    </tr>\n  </tbody>\n</table>\n<p>5682 rows × 4 columns</p>\n</div>"
     },
     "metadata": {},
     "execution_count": 67
    }
   ],
   "source": [
    "test_data"
   ]
  },
  {
   "cell_type": "code",
   "execution_count": 68,
   "metadata": {},
   "outputs": [],
   "source": [
    "X_tfidf_test = tfidf_vect.fit_transform(test_data['clean'])"
   ]
  },
  {
   "cell_type": "code",
   "execution_count": 69,
   "metadata": {},
   "outputs": [
    {
     "output_type": "execute_result",
     "data": {
      "text/plain": [
       "(5682, 250)"
      ]
     },
     "metadata": {},
     "execution_count": 69
    }
   ],
   "source": [
    "X_tfidf_test.shape"
   ]
  },
  {
   "cell_type": "code",
   "execution_count": 70,
   "metadata": {},
   "outputs": [],
   "source": [
    "test_predictions = rfor.predict(X_tfidf_test.toarray())"
   ]
  },
  {
   "cell_type": "code",
   "execution_count": 71,
   "metadata": {},
   "outputs": [],
   "source": [
    "submission = pd.DataFrame(\n",
    "    {'index': test_data['index'],\n",
    "     'lang_id': test_predictions\n",
    "    })"
   ]
  },
  {
   "cell_type": "code",
   "execution_count": 73,
   "metadata": {},
   "outputs": [
    {
     "output_type": "execute_result",
     "data": {
      "text/plain": [
       "   index lang_id\n",
       "0      1     xho\n",
       "1      2     xho\n",
       "2      3     eng\n",
       "3      4     zul\n",
       "4      5     xho"
      ],
      "text/html": "<div>\n<style scoped>\n    .dataframe tbody tr th:only-of-type {\n        vertical-align: middle;\n    }\n\n    .dataframe tbody tr th {\n        vertical-align: top;\n    }\n\n    .dataframe thead th {\n        text-align: right;\n    }\n</style>\n<table border=\"1\" class=\"dataframe\">\n  <thead>\n    <tr style=\"text-align: right;\">\n      <th></th>\n      <th>index</th>\n      <th>lang_id</th>\n    </tr>\n  </thead>\n  <tbody>\n    <tr>\n      <th>0</th>\n      <td>1</td>\n      <td>xho</td>\n    </tr>\n    <tr>\n      <th>1</th>\n      <td>2</td>\n      <td>xho</td>\n    </tr>\n    <tr>\n      <th>2</th>\n      <td>3</td>\n      <td>eng</td>\n    </tr>\n    <tr>\n      <th>3</th>\n      <td>4</td>\n      <td>zul</td>\n    </tr>\n    <tr>\n      <th>4</th>\n      <td>5</td>\n      <td>xho</td>\n    </tr>\n  </tbody>\n</table>\n</div>"
     },
     "metadata": {},
     "execution_count": 73
    }
   ],
   "source": [
    "submission.head()"
   ]
  },
  {
   "cell_type": "code",
   "execution_count": 74,
   "metadata": {},
   "outputs": [],
   "source": [
    "# save DataFrame to csv file for submission\n",
    "submission.to_csv(\"submission.csv\", index=False)"
   ]
  },
  {
   "cell_type": "code",
   "execution_count": null,
   "metadata": {},
   "outputs": [],
   "source": []
  }
 ]
}